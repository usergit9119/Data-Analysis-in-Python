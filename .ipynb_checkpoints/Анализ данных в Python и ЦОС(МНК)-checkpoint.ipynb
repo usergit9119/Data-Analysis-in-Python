{
 "cells": [
  {
   "cell_type": "markdown",
   "id": "36811669-96bf-4573-93d8-af027cc29384",
   "metadata": {},
   "source": [
    "<h1>Анализ данных в Python</h1>"
   ]
  },
  {
   "cell_type": "markdown",
   "id": "9b23a74f-bcec-4ca3-a882-65fa9b8d7f90",
   "metadata": {},
   "source": [
    "<h2>Линейная регрессия</h2>"
   ]
  },
  {
   "cell_type": "markdown",
   "id": "12bcc35d-bf5e-4a21-8799-196f0d21a09b",
   "metadata": {},
   "source": [
    "<h3>Что такое Регрессия?</h3>"
   ]
  },
  {
   "cell_type": "markdown",
   "id": "661170ca-575f-43fc-9150-9b74200467de",
   "metadata": {},
   "source": [
    "<ul>\n",
    "    <li><p>Регрессия ищет зависимость между переменными </p></li>\n",
    "    <li><p>регрессия помогает нам построить математическую модель, которая объединяет различные наблюдения в единое целое, что позволяет нам лучше понять взаимосвязи между переменными и использовать эти знания для прогнозирования.</p></li>\n",
    "    <li><p>Регрессия рассматривает некоторые наблюдения и ряд явлений. Каждое наблюдение имеет две и более переменных</p></li>\n",
    "    <li><p>Другими словами нужно найти функцию, которая отображает зависимость от одних переменных от других</p></li>\n",
    "    <li><p><b>Зависимые данные</b> называются зависимыми переменными, выходами или ответами.\n",
    "    <b>Независимые данные</b> называются независимыми переменными, входами или предсказателями.</p></li>\n",
    "    \n",
    "</ul>"
   ]
  },
  {
   "cell_type": "markdown",
   "id": "ea4de8f9-46ed-437d-aa59-82b118a76aa4",
   "metadata": {},
   "source": [
    "<h3>Когда нужна Регрессия?</h3>"
   ]
  },
  {
   "cell_type": "markdown",
   "id": "808100d9-fee5-4f02-bcb5-337ff27e5b60",
   "metadata": {},
   "source": [
    "<p>Регрессия полезна для прогнозирования ответа на новые условия. Можно угадать потребление электроэнергии в жилом доме из данных температуры, времени суток и количества жильцов.</p>\n"
   ]
  },
  {
   "cell_type": "markdown",
   "id": "63d50c51-ef07-4d6d-938c-6a6f07b2019c",
   "metadata": {},
   "source": [
    "<h3>Постанковка проблемы</h3>"
   ]
  },
  {
   "cell_type": "markdown",
   "id": "7c63462e-5430-4bcc-8428-32a9859fe043",
   "metadata": {},
   "source": [
    "<p>Линейная регрессия представляет функцию y набор независимых переменных $x = (x_{1}, _{...}, x_{r})$, где r - число предсказателей, предполагает, что линейное отношение между y и x. Это и есть <b>Уравнение регрессии</b>: $$ y = \\beta_0 + \\beta_1 x_1 + \\dots + \\beta_r x_r + \\varepsilon $$\n",
    "<ul>\n",
    "Где:\n",
    "    <li>$Y$ -зависимая переменная (целевая переменная)</li>\n",
    "    <li>$X_{1}, X_{2}, ..., X_{n}$ - независимые переменные (предикаторы)</li>\n",
    "    <li>$\\beta_0, \\beta_1, ... ,\\beta_n$ - коэффиценты регрессии,которые определяют влияние каждой независимой переменной на зависимую переменную. </li>\n",
    "    <li>$\\varepsilon$ - случайная ошибка, которая представляет расхождение между фактическими и прогнозируемыми значениями зависимой перменной</li>\n",
    "</ul>\n",
    "</p>"
   ]
  },
  {
   "cell_type": "markdown",
   "id": "21a4aa8a-a23e-4ddb-a639-a62298b6442b",
   "metadata": {},
   "source": [
    "<h4>Оценочные функции</h4>"
   ]
  },
  {
   "cell_type": "markdown",
   "id": "8c9e63d2-c27e-44b8-978b-9e2b62463855",
   "metadata": {},
   "source": [
    "<p>Оценочная функция в контексте линейной регрессии используется для прогнозирования значений зависимой переменной на основе значений независимых переменных. В основе её использования лежат коэффициенты регрессии, которые были оценены в процессе обучения модели на обучающей выборке данных.<br>\n",
    "    Для прогнозирования значений зависимой переменной \n",
    "$Y$ для нового наблюдения $x$, мы подставляем соответствующие значения $x$ в оценочную функцию $f(x)$. Это даёт нам ожидаемое значение \n",
    "$Y$ на основе данных $x$ и параметров модели: $$Y_{predicted} = f(x) = b_{0} + b_{1}x_{1} + ... + b_{r}x_{r}$$\n",
    "Где:\n",
    "<ul> \n",
    "    <li>$Y_{predicted}$ - прогнозируемое значение</li>\n",
    "    <li>$x_{1},x_{2},...,x_{r}$ - значения независимых переменных для нового наблюдения.</li>\n",
    "    <li>$b_{0},b_{1},...,b_{r}$ - коэффиценты регрессии, оцененные в процессе обучения</li>\n",
    "    \n",
    "</ul>\n",
    "Таким образом, оценочная функция позволяет нам использовать модель линейной регрессии для прогнозирования значений зависимой переменной на основе новых данных, которые не были использованы при обучении модели. Это делает оценочную функцию полезным инструментом в анализе и прогнозировании данных.\n",
    "</p>"
   ]
  },
  {
   "cell_type": "markdown",
   "id": "8db172e6-2e9c-44e1-a5e9-15a5b58802c6",
   "metadata": {},
   "source": [
    "<h4>Остаток регрессии</h4>"
   ]
  },
  {
   "cell_type": "markdown",
   "id": "9cee7825-54e9-45e0-ac04-49e5c831bfca",
   "metadata": {},
   "source": [
    "Для каждого результата наблюдения i = 1, ..., n, <b>Оценочный(предсказанный ответ)</b> $f(x_{i})$ ,должен быть как можно ближе к соответствующему <b>фактическому ответ</b> $y_{i}$. Разницы $y_{i} - f(x_{i})$ для всех результатов наблюдений называются <b>остатками</b>. Регрессия определяет лучшие <b>прогнозируемые весы измерения</b>, которые соответствуют наименьшими остаткам.\n",
    "\n",
    "в общем случае, чем меньше остаток регрессии, тем более точно модель линейной регрессии соответствует данным, и, следовательно, результат наблюдения может считаться более корректным. Остатки регрессии представляют собой разницу между фактическими значениями зависимой переменной и значениями, предсказанными моделью. Если остатки маленькие, это означает, что модель хорошо предсказывает или объясняет данные.\n",
    "\n",
    "Однако следует учитывать, что оценка корректности результатов наблюдения и модели зависит от контекста и целей исследования. Например, если остатки регрессии очень маленькие, это может указывать на переобучение модели, когда она слишком точно подстраивается под обучающие данные и неспособна обобщать на новые данные. В таких случаях модель может быть некорректной."
   ]
  },
  {
   "cell_type": "markdown",
   "id": "5fa90995-8077-49ef-9ad0-b9be9cdfffde",
   "metadata": {},
   "source": [
    "<h2>Метод наименьших квадратов</h2>"
   ]
  },
  {
   "cell_type": "markdown",
   "id": "d4b224a2-dbea-4d5c-a3d7-9b6d5177720b",
   "metadata": {},
   "source": [
    "Для получения лучших весов, вам нужно минимизировать сумму остаточных квадратов (SSR) для всех результатов наблюдений. Этот подход называется <b>методом наименьших квадратов</b>.\n",
    "Метод наименьших квадратов (МНК) - это основной метод, используемый в линейной регрессии для оценки коэффициентов модели. Его цель состоит в том, чтобы найти такие коэффициенты $\\beta_{0},\\beta_{1},...,\\beta_{r}$, которые минимизируют сумму квадратов остатков, или разностей между фактическими и предсказанными значениями зависимой переменной.\n",
    "\n",
    "Вот шаги метода наименьших квадратов в линейной регрессии:\n",
    "<ol>\n",
    "    <li><b>Формулировка модели:</b>  Вы начинаете с формулировки модели линейной регрессии, которая представляет зависимость между зависимой переменной $y$ и независимыми переменными $x_{1},x_{2},...,x_{r}$. Выглядет это обычно так: $y = \\beta_0 + \\beta_1 x_1 + \\dots + \\beta_r x_r + \\varepsilon$.</li>\n",
    "    <li><b>Оценка коэффицентов:</b>Задача состоит в том, чтобы найти такие значения коэффициентов $\\beta_{0},\\beta_{1},...,\\beta_{r}$, которые минимизируют сумму квадратов остатков. Формально, мы минимизируем функцию потерь, используя - <b>сумму квадратов ошибок отклонений</b>: $$E_{1}=\\sum_{i=1}^{n} (y_i - \\hat{y}_i)^2$$</li>\n",
    "    <ul>\n",
    "        <li>Знак $\\sum$ обозначает сумму.</li>\n",
    "        <li>$n$ - количество наблюдений</li>\n",
    "        <li>$y_{i}$ - фактическое значение зависимой переменной для $i$-го наблюдения</li>\n",
    "        <li>$\\hat{y}_i$ - предсказанное значение зависимой переменной для $i$-го наблюдения</li>\n",
    "    </ul>\n",
    "    <li><b>Решение уравнений:</b> Для нахождения оптимальных значений коэффициентов используются методы оптимизации, такие как градиентный спуск или аналитическое решение, которое можно найти путем дифференциации функции потерь по параметрам модели и приравнивании производных к нулю.</li>\n",
    "    <li><b>Оценка модели:</b> После нахождения оптимальных коэффициентов модель оценивается на тестовых данных, и её производительность проверяется с использованием различных метрик, таких как коэффициент детерминации $R^2$ или средняя квадратическая ошибка.</li> <br>\n",
    "<i>Метод наименьших квадратов широко используется из-за своей простоты и эффективности в оценке параметров линейной регрессии.</i>\n",
    "</ol>"
   ]
  },
  {
   "cell_type": "markdown",
   "id": "7aca6646-9739-4190-927a-c912a44488bc",
   "metadata": {},
   "source": [
    "<h3>Математическое обоснование МНК</h3>"
   ]
  },
  {
   "cell_type": "markdown",
   "id": "bd5745f8-a700-4e9e-b374-0f0d836df787",
   "metadata": {},
   "source": [
    "Для суммы квадратов ошибок отклонения существует математическое обоснование: <br>\n",
    "Часто результатами реальных измерений имеет стандратное гаусское отклонение относительно измеряемого параметра:"
   ]
  },
  {
   "cell_type": "markdown",
   "id": "5eb06ca5-6b88-43e0-86c5-5f3d00e1db61",
   "metadata": {},
   "source": [
    "В линейной регрессии сумма квадратов остатков (SEE) используется как мера ошибки модели, и ее минимизация имеет математическое обоснование, основанное на предположениях о распределении ошибок. Одно из основных предположений линейной регрессии - это предположение о нормальном распределении ошибок (остатков). Это означает, что остатки модели должны иметь стандартное гауссово (нормальное) распределение, то есть нормальное распределение с нулевым средним и постоянной дисперсией, где:\n",
    "<ul>\n",
    "<li>Нулевое среднее - означает, что среднее значение всех ошибок равно нулю. Это предположение означает, что модель в среднем правильно предсказывает зависимую переменную.</li>\n",
    "<li>Постоянная дисперсия - означает, что дисперсия (разброс) ошибок остается постоянной независимо от значений независимых переменных. Это позволяет получить эффективные и консистентные оценки параметров модели при использовании МНК.</li>\n",
    "</ul>\n",
    "    Когда остатки имеют нормальное распределение, минимизация суммы квадратов остатков (SSE) приводит к нахождению наилучших оценок параметров модели. Это математически обосновано, потому что метод наименьших квадратов (МНК), который используется для оценки параметров, дает оценки параметров, которые являются наилучшими линейными несмещенными оценками при нормальном распределении ошибок. Таким образом, предположение о нормальном распределении ошибок обеспечивает математическое обоснование использования суммы квадратов остатков в качестве меры ошибки модели в линейной регрессии."
   ]
  },
  {
   "cell_type": "code",
   "execution_count": 1,
   "id": "2cbcccfe-6585-47f5-97d4-8ed114cc14a1",
   "metadata": {},
   "outputs": [
    {
     "data": {
      "image/png": "[encoded data removed]",
      "text/plain": [
       "<Figure size 800x600 with 1 Axes>"
      ]
     },
     "metadata": {},
     "output_type": "display_data"
    }
   ],
   "source": [
    "import numpy as np\n",
    "import matplotlib.pyplot as plt\n",
    "from scipy.stats import norm\n",
    "\n",
    "# Задаем диапазон значений для оси x\n",
    "x = np.linspace(-4, 4, 1000)\n",
    "\n",
    "# Вычисляем плотность вероятности для стандартного нормального распределения\n",
    "y = norm.pdf(x, 0, 1)  # Среднее значение = 0, стандартное отклонение = 1\n",
    "\n",
    "# Строим график плотности вероятности\n",
    "plt.figure(figsize=(8, 6))\n",
    "plt.plot(x, y, 'b-', linewidth=2)\n",
    "plt.title('Стандартное нормальное распределение')\n",
    "plt.xlabel('Значение')\n",
    "plt.ylabel('Плотность вероятности')\n",
    "plt.xlabel('$f(x_i)$')\n",
    "plt.ylabel('0')\n",
    "\n",
    "# Добавляем горизонтальные и вертикальные оси\n",
    "plt.axhline(0, color='black', linewidth=1.5)\n",
    "plt.axvline(-4, color='black', linewidth=1.5)\n",
    "plt.axvline(x=0, color='r', linestyle='-', linewidth=1)\n",
    "\n",
    "# Создаем случайные значения для random_x\n",
    "random_x = np.random.normal(0, 1, 6)  # Пример: случайные значения из стандартного нормального распределения\n",
    "\n",
    "# Рисуем точки\n",
    "plt.scatter(random_x, np.zeros_like(random_x), color='red', marker='o')\n",
    "\n",
    "plt.grid(True)\n",
    "plt.show()\n"
   ]
  },
  {
   "cell_type": "markdown",
   "id": "5bb86a8f-44a9-4e66-bf1e-72551904b9ab",
   "metadata": {},
   "source": [
    "Из выше сказанного и изображенного графика нормального распределения ошибок можно сделать вывод, что:</br>\n",
    "<ul>\n",
    "<li>Предположение о нормальном распределении ошибок означает, что чем выше точка $y_{max}$ значении $f(x_i)$, тем выше вероятность того, что измерения попадут ближе к области измеряемого параметра $f(x_i)$.</li>\n",
    "<li>Из этого следует, что  вероятность того, что измерения попадут ближе к области измеряемого параметра $f(x_i)$ выше, чем у, тех у кого большее отклонение от $f(x_i)$, потому что нормальное распределение имеет колоколообразную форму, и наиболее вероятные (наиболее плотные) значения концентрируются вокруг среднего значения.</li>\n",
    "</ul>\n",
    "Нормальное распределение с нулевым средним и постоянной дисперсией - обеcпечивают к нахождению наилучших оценок параметров модели. Это позволяет минимизировать сумму квадратов остатков (SSE) и находить параметры модели, которые лучше всего соответствуют данным и имеют наибольшую вероятность быть \"истинными\" параметрами в генеральной совокупности.\n"
   ]
  },
  {
   "cell_type": "markdown",
   "id": "04b7a10d-6ee1-4fa6-ab28-276d2bf54f2c",
   "metadata": {},
   "source": [
    "стандартное гауссово (нормальное) распределение описывает формула: $$\\omega(y_{i} | f(x_{i})) = \\frac{1}{\\sigma \\sqrt{2\\pi}} e^{-\\frac{(y_{i} - f(x_{i}))^2}{2\\sigma^2}}$$\n",
    "\n",
    "Где:\n",
    "<ul>\n",
    "    <li>$\\sigma$ - стандартное отклонение. Это мера разброса значений случайной величины, чем меньше это значение, тем точнее прогнозы модели. влияет на ширину колокообразной формы графика. </li>\n",
    "    <li>$f(x_{i})$ - математическое ожидание. Это значение определяет максимальную точку графика. Относительного этого параметра определяется разброс реальных измерений(красные точки) </li>\n",
    "    <li>$\\omega(y_{i} | f(x_{i}))$ - обозначение стандартного гаусского отклонения для значения $y_{i}$, при условии $f(x_{i})$. </li>\n",
    "</ul>"
   ]
  },
  {
   "cell_type": "markdown",
   "id": "b9b36569-be11-4260-97bf-c6815e6c6c91",
   "metadata": {},
   "source": [
    "<h3>Плотность распределения вероятности</h3>\n",
    "<p>Плотность распределения вероятности (PDF) - это функция, которая описывает вероятность случайной величины принять определенное значение. Другими словами, она определяет, как вероятность распределена по всем возможным значениям случайной величины.<br>\n",
    "Формально, для непрерывной случайной величины $X$, плотность распределения вероятности $f(x)$ определяется так, что вероятность того, $X$ попадет в некоторый интервал $[a,b]$, равна интегралу от $f(x)$ по интервалу: $$P(a \\leq X \\leq b) = \\int_{a}^{b} f(x) \\, dx $$\n",
    "    Графически, плотность распределения вероятности часто представляется кривой на графике, где площадь под кривой в пределах интервала отражает вероятность попадания случайной величины в этот интервал. Плотность распределения вероятности может быть различной в зависимости от типа распределения (например, нормальное, равномерное, экспоненциальное и т. д.).<br>\n",
    "    Плотность распределения вероятности часто используется для моделирования ошибок или остатков модели, чтобы оценить вероятностные характеристики этих ошибок и провести статистические выводы о параметрах модели.<br>\n",
    "    <b>Например: </b><br>\n",
    "Давайте вычислим вероятность $P(a \\leq X \\leq b)$ для стандартного нормального распределения, используя интегрирование. Мы можем сделать это, интегрируя функцию плотности вероятности $f(x)$ на интервале [1;-1]:"
   ]
  },
  {
   "cell_type": "code",
   "execution_count": 2,
   "id": "b3dd1d37-4a03-4062-9372-7c813666ebf7",
   "metadata": {},
   "outputs": [
    {
     "name": "stdout",
     "output_type": "stream",
     "text": [
      "Вероятность P(-1 <= X <= 1): 0.682689492137086\n"
     ]
    }
   ],
   "source": [
    "import numpy as np\n",
    "from scipy.integrate import quad\n",
    "\n",
    "# Функция плотности вероятности стандартного нормального распределения\n",
    "def pdf(x):\n",
    "    return (1 / np.sqrt(2 * np.pi)) * np.exp(-0.5 * x**2)\n",
    "\n",
    "# Определяем пределы интегрирования\n",
    "a = -1\n",
    "b = 1\n",
    "\n",
    "# Вычисляем вероятность с помощью интегрирования\n",
    "probability, _ = quad(pdf, a, b)\n",
    "\n",
    "print(\"Вероятность P(-1 <= X <= 1):\", probability)"
   ]
  },
  {
   "cell_type": "markdown",
   "id": "2a853cbc-7114-4970-86d6-47114a17b77d",
   "metadata": {},
   "source": [
    "Этот код использует функцию quad из библиотеки scipy.integrate, чтобы проинтегрировать функцию плотности вероятности pdf(x) на интервале от -1 до 1. Результат интегрирования дает вероятность того, что случайная величина попадает в этот интервал.\n",
    "Такое условие может возникнуть, например, при анализе результатов экспериментов или измерений, когда требуется определить вероятность того, что случайная величина находится в определенном диапазоне значений. На практике это может быть полезно для оценки вероятности того, что наблюдаемые данные находятся в пределах определенного диапазона, что может иметь значение, например, при принятии решений на основе результатов исследований или анализе рисков."
   ]
  },
  {
   "cell_type": "markdown",
   "id": "789fc168-9aa8-46d4-8cff-06f9744a1232",
   "metadata": {},
   "source": [
    "<h3>Доказательство стандартного гауссово (нормального) распределения</h3>\n",
    "Стандартное нормальное распределение (или стандартное гауссовское распределение) является одним из примеров функции плотности распределения вероятности (PDF).\n",
    "Для стандартного нормального распределения PDF имеет вид:$$f(x) = \\frac{1}{\\sqrt{2\\pi}} e^{-\\frac{x^2}{2}}\n",
    "$$\n",
    "где $x$ - значение случайной величины, а $\\frac{1}{\\sqrt{2\\pi}} e^{-\\frac{x^2}{2}}$ -  это функция, которая определяет вероятность того, что случайная величина равна $x$ или попадает в определенный диапазон значений.</br>\n",
    "Таким образом, интеграл от $f(x)$ по интервалу от $a$ до $b$ $P(a \\leq X \\leq b) = \\int_{a}^{b} f(x) \\, dx $ представляет собой вероятность того, что случайная величина $X$ попадает в этот интервал, а значением этой вероятности является площадь под кривой плотности вероятности от $a$ до $b$.<br>\n",
    "Если мы подставим $f(x)$ в функцию плотности вероятности стандартного гауссовского распределения $$f(x) = \\frac{1}{\\sqrt{2\\pi}} e^{-\\frac{x^2}{2}}$$ вместо переменной $x$, мы получим: $$f(f(x_i)) = \\frac{1}{\\sqrt{2\\pi}} e^{-\\frac{f(x_i)^2}{2}}$$\n",
    "где $f(x_{i})$ - это значение функции $f(x)$ для конкретного значения $x_{i}$.<br>\n",
    "Тогда, если мы рассмотрим $y_{i}$ как случайную величину, имеющую нормальное распределение с параметрами $f(x_{i})$ и стандартным отклонением $\\sigma$, мы можем записать плотность вероятности для $y_{i}$ как: \n",
    "\n",
    "$$\\omega(y_{i} | f(x_{i})) = \\frac{1}{\\sigma \\sqrt{2\\pi}} e^{-\\frac{(y_{i} - f(x_{i}))^2}{2\\sigma^2}}$$\n",
    "</p>\n",
    "Это означает, что $y_{i}$ имеет нормальное распределение с математическим ожиданием $f(x_{i})$ и стандартным отклонением $\\sigma$."
   ]
  },
  {
   "cell_type": "markdown",
   "id": "d93419bd-99c7-4a0c-9178-09cbe9acf8f6",
   "metadata": {},
   "source": [
    "<h3>Функция совместной плотности вероятности (для двух случайных величин)</h3>\n",
    "При перемножении плотности вероятности $\\omega(y_{i} | f(x_{i}))$ саму на себя, мы получаем функцию, которая описывает совместное распределение двух случайных величин $y_{i}$ и $f(x_{i})$:\n",
    "$$ \\prod_{i=1}^N \\omega(y_i, f(x_i)) = \\prod_{i=1}^N \\sigma{\\sqrt{2\\pi}} \\cdot \\exp\\left(-\\frac{1}{2\\sigma^2} \\sum_{i=1}^N (y_i - f(x_i))^2\\right)\n",
    "$$\n",
    "Где:\n",
    "<ul>\n",
    "    <li>$\\prod_{i=1}^N \\sigma{\\sqrt{2\\pi}}$ - множитель функции являющийся константой, которая умножает функцию. Он отвечает за масштабирование и нормализацию, чтобы плотность вероятности была правильно отмасштабирована и интегрировалась до единицы. </li>\n",
    "    <li>$\\exp$ - экспонента, описывающую степень, в которую возводится основание экспоненты $e$. В данном случае, экспонента содержит сумму квадратов отклонений $(y_i - f(x_i))^2$.</li>\n",
    "    <li>$(-\\frac{1}{2\\sigma^2} \\sum_{i=1}^N (y_i - f(x_i))^2)$ - степень экспоненты, которая устанавливает масштаб и форму экспоненциальной функции, влияя на форму и крутизну пика вероятностного распределения.</li>\n",
    "</ul>\n",
    "Условие предпологает что мы интересуемся тем, какие значения могут одновременно принимать обе этих переменные и с какой вероятностью. Сама формула  учитывает ошибки предсказания модели, вычисляя квадраты разностей между фактическими значениями $y_{i}$ и предсказанными значениями $f(x_{i})$. Это позволяет нам оценить, насколько хорошо модель соответствует данным и какие значения случайных переменных могут быть наиболее вероятными в нашем наборе данных. Это важный шаг в статистике и машинном обучении, особенно в контексте оценки параметров моделей, таких как линейная регрессия."
   ]
  },
  {
   "cell_type": "code",
   "execution_count": null,
   "id": "026a7e84-f67b-48a3-9267-45ca3a02ece7",
   "metadata": {},
   "outputs": [],
   "source": []
  }
 ],
 "metadata": {
  "kernelspec": {
   "display_name": "Python 3 (ipykernel)",
   "language": "python",
   "name": "python3"
  },
  "language_info": {
   "codemirror_mode": {
    "name": "ipython",
    "version": 3
   },
   "file_extension": ".py",
   "mimetype": "text/x-python",
   "name": "python",
   "nbconvert_exporter": "python",
   "pygments_lexer": "ipython3",
   "version": "3.12.0"
  }
 },
 "nbformat": 4,
 "nbformat_minor": 5
}
